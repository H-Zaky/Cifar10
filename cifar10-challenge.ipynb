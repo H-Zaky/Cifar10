{
 "cells": [
  {
   "cell_type": "code",
   "execution_count": 1,
   "id": "7c3bfcc1",
   "metadata": {
    "_cell_guid": "b1076dfc-b9ad-4769-8c92-a6c4dae69d19",
    "_uuid": "8f2839f25d086af736a60e9eeb907d3b93b6e0e5",
    "execution": {
     "iopub.execute_input": "2023-10-06T10:05:16.419843Z",
     "iopub.status.busy": "2023-10-06T10:05:16.419107Z",
     "iopub.status.idle": "2023-10-06T10:05:17.097181Z",
     "shell.execute_reply": "2023-10-06T10:05:17.096329Z"
    },
    "papermill": {
     "duration": 0.688116,
     "end_time": "2023-10-06T10:05:17.099272",
     "exception": false,
     "start_time": "2023-10-06T10:05:16.411156",
     "status": "completed"
    },
    "tags": []
   },
   "outputs": [
    {
     "name": "stdout",
     "output_type": "stream",
     "text": [
      "/kaggle/input/cifar-10/trainLabels.csv\n",
      "/kaggle/input/cifar-10/sampleSubmission.csv\n",
      "/kaggle/input/cifar-10/test.7z\n",
      "/kaggle/input/cifar-10/train.7z\n"
     ]
    }
   ],
   "source": [
    "import numpy as np # linear algebra\n",
    "import pandas as pd # data processing, CSV file I/O (e.g. pd.read_csv)\n",
    "import os\n",
    "for dirname, _, filenames in os.walk('/kaggle/input'):\n",
    "    for filename in filenames:\n",
    "        print(os.path.join(dirname, filename))"
   ]
  },
  {
   "cell_type": "code",
   "execution_count": 2,
   "id": "16a7ffc1",
   "metadata": {
    "execution": {
     "iopub.execute_input": "2023-10-06T10:05:17.106626Z",
     "iopub.status.busy": "2023-10-06T10:05:17.105626Z",
     "iopub.status.idle": "2023-10-06T10:05:23.059685Z",
     "shell.execute_reply": "2023-10-06T10:05:23.058794Z"
    },
    "papermill": {
     "duration": 5.959829,
     "end_time": "2023-10-06T10:05:23.061840",
     "exception": false,
     "start_time": "2023-10-06T10:05:17.102011",
     "status": "completed"
    },
    "tags": []
   },
   "outputs": [
    {
     "name": "stderr",
     "output_type": "stream",
     "text": [
      "/opt/conda/lib/python3.10/site-packages/scipy/__init__.py:146: UserWarning: A NumPy version >=1.16.5 and <1.23.0 is required for this version of SciPy (detected version 1.23.5\n",
      "  warnings.warn(f\"A NumPy version >={np_minversion} and <{np_maxversion}\"\n"
     ]
    }
   ],
   "source": [
    "from fastai.vision.all import *"
   ]
  },
  {
   "cell_type": "code",
   "execution_count": 3,
   "id": "15ceb3f8",
   "metadata": {
    "execution": {
     "iopub.execute_input": "2023-10-06T10:05:23.068276Z",
     "iopub.status.busy": "2023-10-06T10:05:23.068003Z",
     "iopub.status.idle": "2023-10-06T10:05:34.971123Z",
     "shell.execute_reply": "2023-10-06T10:05:34.969837Z"
    },
    "papermill": {
     "duration": 11.908888,
     "end_time": "2023-10-06T10:05:34.973490",
     "exception": false,
     "start_time": "2023-10-06T10:05:23.064602",
     "status": "completed"
    },
    "tags": []
   },
   "outputs": [
    {
     "name": "stdout",
     "output_type": "stream",
     "text": [
      "Collecting py7zr\r\n",
      "  Downloading py7zr-0.20.6-py3-none-any.whl (66 kB)\r\n",
      "\u001b[2K     \u001b[90m━━━━━━━━━━━━━━━━━━━━━━━━━━━━━━━━━━━━━━━━\u001b[0m \u001b[32m66.7/66.7 kB\u001b[0m \u001b[31m3.7 MB/s\u001b[0m eta \u001b[36m0:00:00\u001b[0m\r\n",
      "\u001b[?25hRequirement already satisfied: texttable in /opt/conda/lib/python3.10/site-packages (from py7zr) (1.6.7)\r\n",
      "Collecting pycryptodomex>=3.6.6 (from py7zr)\r\n",
      "  Downloading pycryptodomex-3.19.0-cp35-abi3-manylinux_2_17_x86_64.manylinux2014_x86_64.whl (2.1 MB)\r\n",
      "\u001b[2K     \u001b[90m━━━━━━━━━━━━━━━━━━━━━━━━━━━━━━━━━━━━━━━━\u001b[0m \u001b[32m2.1/2.1 MB\u001b[0m \u001b[31m55.6 MB/s\u001b[0m eta \u001b[36m0:00:00\u001b[0m\r\n",
      "\u001b[?25hCollecting pyzstd>=0.14.4 (from py7zr)\r\n",
      "  Downloading pyzstd-0.15.9-cp310-cp310-manylinux_2_17_x86_64.manylinux2014_x86_64.whl (412 kB)\r\n",
      "\u001b[2K     \u001b[90m━━━━━━━━━━━━━━━━━━━━━━━━━━━━━━━━━━━━━━\u001b[0m \u001b[32m412.3/412.3 kB\u001b[0m \u001b[31m33.2 MB/s\u001b[0m eta \u001b[36m0:00:00\u001b[0m\r\n",
      "\u001b[?25hCollecting pyppmd<1.1.0,>=0.18.1 (from py7zr)\r\n",
      "  Downloading pyppmd-1.0.0-cp310-cp310-manylinux_2_17_x86_64.manylinux2014_x86_64.whl (138 kB)\r\n",
      "\u001b[2K     \u001b[90m━━━━━━━━━━━━━━━━━━━━━━━━━━━━━━━━━━━━━━\u001b[0m \u001b[32m138.8/138.8 kB\u001b[0m \u001b[31m13.0 MB/s\u001b[0m eta \u001b[36m0:00:00\u001b[0m\r\n",
      "\u001b[?25hCollecting pybcj>=0.6.0 (from py7zr)\r\n",
      "  Downloading pybcj-1.0.1-cp310-cp310-manylinux_2_17_x86_64.manylinux2014_x86_64.whl (49 kB)\r\n",
      "\u001b[2K     \u001b[90m━━━━━━━━━━━━━━━━━━━━━━━━━━━━━━━━━━━━━━━━\u001b[0m \u001b[32m49.8/49.8 kB\u001b[0m \u001b[31m5.0 MB/s\u001b[0m eta \u001b[36m0:00:00\u001b[0m\r\n",
      "\u001b[?25hCollecting multivolumefile>=0.2.3 (from py7zr)\r\n",
      "  Downloading multivolumefile-0.2.3-py3-none-any.whl (17 kB)\r\n",
      "Collecting brotli>=1.0.9 (from py7zr)\r\n",
      "  Downloading Brotli-1.1.0-cp310-cp310-manylinux_2_5_x86_64.manylinux1_x86_64.manylinux_2_12_x86_64.manylinux2010_x86_64.whl (3.0 MB)\r\n",
      "\u001b[2K     \u001b[90m━━━━━━━━━━━━━━━━━━━━━━━━━━━━━━━━━━━━━━━━\u001b[0m \u001b[32m3.0/3.0 MB\u001b[0m \u001b[31m73.8 MB/s\u001b[0m eta \u001b[36m0:00:00\u001b[0m\r\n",
      "\u001b[?25hCollecting inflate64>=0.3.1 (from py7zr)\r\n",
      "  Downloading inflate64-0.3.1-cp310-cp310-manylinux_2_17_x86_64.manylinux2014_x86_64.whl (93 kB)\r\n",
      "\u001b[2K     \u001b[90m━━━━━━━━━━━━━━━━━━━━━━━━━━━━━━━━━━━━━━━━\u001b[0m \u001b[32m93.1/93.1 kB\u001b[0m \u001b[31m9.2 MB/s\u001b[0m eta \u001b[36m0:00:00\u001b[0m\r\n",
      "\u001b[?25hRequirement already satisfied: psutil in /opt/conda/lib/python3.10/site-packages (from py7zr) (5.9.3)\r\n",
      "Installing collected packages: brotli, pyzstd, pyppmd, pycryptodomex, pybcj, multivolumefile, inflate64, py7zr\r\n",
      "Successfully installed brotli-1.1.0 inflate64-0.3.1 multivolumefile-0.2.3 py7zr-0.20.6 pybcj-1.0.1 pycryptodomex-3.19.0 pyppmd-1.0.0 pyzstd-0.15.9\r\n"
     ]
    }
   ],
   "source": [
    "!pip install py7zr"
   ]
  },
  {
   "cell_type": "code",
   "execution_count": 4,
   "id": "57b8e0f1",
   "metadata": {
    "execution": {
     "iopub.execute_input": "2023-10-06T10:05:34.981813Z",
     "iopub.status.busy": "2023-10-06T10:05:34.981511Z",
     "iopub.status.idle": "2023-10-06T10:06:17.397565Z",
     "shell.execute_reply": "2023-10-06T10:06:17.396610Z"
    },
    "papermill": {
     "duration": 42.422747,
     "end_time": "2023-10-06T10:06:17.399805",
     "exception": false,
     "start_time": "2023-10-06T10:05:34.977058",
     "status": "completed"
    },
    "tags": []
   },
   "outputs": [],
   "source": [
    "import py7zr\n",
    "\n",
    "archive_path = '../input/cifar-10/train.7z'\n",
    "extract_folder = '/kaggle/temp/'\n",
    "\n",
    "with py7zr.SevenZipFile(archive_path, mode='r') as archive:\n",
    "    archive.extractall(path=extract_folder)\n",
    "\n",
    "train_labels = pd.read_csv(\"../input/cifar-10/trainLabels.csv\", header=\"infer\")"
   ]
  },
  {
   "cell_type": "code",
   "execution_count": 5,
   "id": "22472739",
   "metadata": {
    "execution": {
     "iopub.execute_input": "2023-10-06T10:06:17.407967Z",
     "iopub.status.busy": "2023-10-06T10:06:17.407667Z",
     "iopub.status.idle": "2023-10-06T10:06:22.970981Z",
     "shell.execute_reply": "2023-10-06T10:06:22.969667Z"
    },
    "papermill": {
     "duration": 5.569454,
     "end_time": "2023-10-06T10:06:22.972790",
     "exception": false,
     "start_time": "2023-10-06T10:06:17.403336",
     "status": "completed"
    },
    "tags": []
   },
   "outputs": [
    {
     "name": "stdout",
     "output_type": "stream",
     "text": [
      "Processing completed!\n"
     ]
    }
   ],
   "source": [
    "parent_path_train = \"/kaggle/temp/train\"\n",
    "parent_path_valid = \"/kaggle/temp/valid\"\n",
    "\n",
    "classes = ['airplane', 'automobile', 'bird', 'cat', 'deer', 'dog', 'frog', 'horse', 'ship', 'truck']\n",
    "\n",
    "for class1 in classes:\n",
    "    path_train = os.path.join(parent_path_train, class1)\n",
    "    os.makedirs(path_train, exist_ok=True)  # This will create directories if they don't exist\n",
    "    \n",
    "    path_valid = os.path.join(parent_path_valid, class1)\n",
    "    os.makedirs(path_valid, exist_ok=True)  # This will create directories if they don't exist\n",
    "\n",
    "for (int_ind, row) in train_labels.iterrows():\n",
    "    id = str(row[\"id\"]) + \".png\"\n",
    "    source_path = os.path.join(parent_path_train, id)\n",
    "    \n",
    "    if not os.path.exists(source_path):\n",
    "        print(f\"Missing source file: {source_path}\")\n",
    "        continue\n",
    "    \n",
    "    p = np.random.random()\n",
    "    if p <= 0.8:\n",
    "        target_path = os.path.join(parent_path_train, row[\"label\"], id)\n",
    "    else:\n",
    "        target_path = os.path.join(parent_path_valid, row[\"label\"], id)\n",
    "    \n",
    "    os.replace(source_path, target_path)\n",
    "\n",
    "print(\"Processing completed!\")\n"
   ]
  },
  {
   "cell_type": "code",
   "execution_count": 6,
   "id": "68308d0d",
   "metadata": {
    "execution": {
     "iopub.execute_input": "2023-10-06T10:06:22.981610Z",
     "iopub.status.busy": "2023-10-06T10:06:22.981355Z",
     "iopub.status.idle": "2023-10-06T10:06:29.515980Z",
     "shell.execute_reply": "2023-10-06T10:06:29.515073Z"
    },
    "papermill": {
     "duration": 6.541652,
     "end_time": "2023-10-06T10:06:29.518108",
     "exception": false,
     "start_time": "2023-10-06T10:06:22.976456",
     "status": "completed"
    },
    "tags": []
   },
   "outputs": [],
   "source": [
    "classes = train_labels['label'].unique()\n",
    "parent_path_train = \"/kaggle/temp/train\"\n",
    "parent_path_valid = \"/kaggle/temp/valid\"\n",
    "dls=ImageDataLoaders.from_folder(path='/kaggle/temp',\n",
    "                            train='train', valid='valid',item_tfms=Resize(224),bs=64)"
   ]
  },
  {
   "cell_type": "code",
   "execution_count": 7,
   "id": "5814c4f3",
   "metadata": {
    "execution": {
     "iopub.execute_input": "2023-10-06T10:06:29.526389Z",
     "iopub.status.busy": "2023-10-06T10:06:29.526121Z",
     "iopub.status.idle": "2023-10-06T10:06:29.532393Z",
     "shell.execute_reply": "2023-10-06T10:06:29.531571Z"
    },
    "papermill": {
     "duration": 0.012413,
     "end_time": "2023-10-06T10:06:29.534124",
     "exception": false,
     "start_time": "2023-10-06T10:06:29.521711",
     "status": "completed"
    },
    "tags": []
   },
   "outputs": [
    {
     "data": {
      "text/plain": [
       "['valid', 'train']"
      ]
     },
     "execution_count": 7,
     "metadata": {},
     "output_type": "execute_result"
    }
   ],
   "source": [
    "os.listdir('/kaggle/temp')"
   ]
  },
  {
   "cell_type": "code",
   "execution_count": 8,
   "id": "ab2e2a66",
   "metadata": {
    "execution": {
     "iopub.execute_input": "2023-10-06T10:06:29.541944Z",
     "iopub.status.busy": "2023-10-06T10:06:29.541684Z",
     "iopub.status.idle": "2023-10-06T13:47:37.747113Z",
     "shell.execute_reply": "2023-10-06T13:47:37.746197Z"
    },
    "papermill": {
     "duration": 13268.211463,
     "end_time": "2023-10-06T13:47:37.748967",
     "exception": false,
     "start_time": "2023-10-06T10:06:29.537504",
     "status": "completed"
    },
    "tags": []
   },
   "outputs": [
    {
     "name": "stderr",
     "output_type": "stream",
     "text": [
      "/opt/conda/lib/python3.10/site-packages/fastai/vision/learner.py:288: UserWarning: `cnn_learner` has been renamed to `vision_learner` -- please update your code\n",
      "  warn(\"`cnn_learner` has been renamed to `vision_learner` -- please update your code\")\n",
      "/opt/conda/lib/python3.10/site-packages/torchvision/models/_utils.py:208: UserWarning: The parameter 'pretrained' is deprecated since 0.13 and may be removed in the future, please use 'weights' instead.\n",
      "  warnings.warn(\n",
      "/opt/conda/lib/python3.10/site-packages/torchvision/models/_utils.py:223: UserWarning: Arguments other than a weight enum or `None` for 'weights' are deprecated since 0.13 and may be removed in the future. The current behavior is equivalent to passing `weights=ResNet152_Weights.IMAGENET1K_V1`. You can also use `weights=ResNet152_Weights.DEFAULT` to get the most up-to-date weights.\n",
      "  warnings.warn(msg)\n",
      "Downloading: \"https://download.pytorch.org/models/resnet152-394f9c45.pth\" to /root/.cache/torch/hub/checkpoints/resnet152-394f9c45.pth\n",
      "100%|██████████| 230M/230M [00:00<00:00, 295MB/s]\n"
     ]
    },
    {
     "data": {
      "text/html": [
       "\n",
       "<style>\n",
       "    /* Turns off some styling */\n",
       "    progress {\n",
       "        /* gets rid of default border in Firefox and Opera. */\n",
       "        border: none;\n",
       "        /* Needs to be in here for Safari polyfill so background images work as expected. */\n",
       "        background-size: auto;\n",
       "    }\n",
       "    progress:not([value]), progress:not([value])::-webkit-progress-bar {\n",
       "        background: repeating-linear-gradient(45deg, #7e7e7e, #7e7e7e 10px, #5c5c5c 10px, #5c5c5c 20px);\n",
       "    }\n",
       "    .progress-bar-interrupted, .progress-bar-interrupted::-webkit-progress-bar {\n",
       "        background: #F44336;\n",
       "    }\n",
       "</style>\n"
      ],
      "text/plain": [
       "<IPython.core.display.HTML object>"
      ]
     },
     "metadata": {},
     "output_type": "display_data"
    },
    {
     "data": {
      "text/html": [],
      "text/plain": [
       "<IPython.core.display.HTML object>"
      ]
     },
     "metadata": {},
     "output_type": "display_data"
    },
    {
     "data": {
      "text/html": [
       "\n",
       "<style>\n",
       "    /* Turns off some styling */\n",
       "    progress {\n",
       "        /* gets rid of default border in Firefox and Opera. */\n",
       "        border: none;\n",
       "        /* Needs to be in here for Safari polyfill so background images work as expected. */\n",
       "        background-size: auto;\n",
       "    }\n",
       "    progress:not([value]), progress:not([value])::-webkit-progress-bar {\n",
       "        background: repeating-linear-gradient(45deg, #7e7e7e, #7e7e7e 10px, #5c5c5c 10px, #5c5c5c 20px);\n",
       "    }\n",
       "    .progress-bar-interrupted, .progress-bar-interrupted::-webkit-progress-bar {\n",
       "        background: #F44336;\n",
       "    }\n",
       "</style>\n"
      ],
      "text/plain": [
       "<IPython.core.display.HTML object>"
      ]
     },
     "metadata": {},
     "output_type": "display_data"
    },
    {
     "data": {
      "text/html": [
       "<table border=\"1\" class=\"dataframe\">\n",
       "  <thead>\n",
       "    <tr style=\"text-align: left;\">\n",
       "      <th>epoch</th>\n",
       "      <th>train_loss</th>\n",
       "      <th>valid_loss</th>\n",
       "      <th>accuracy</th>\n",
       "      <th>time</th>\n",
       "    </tr>\n",
       "  </thead>\n",
       "  <tbody>\n",
       "    <tr>\n",
       "      <td>0</td>\n",
       "      <td>0.361632</td>\n",
       "      <td>0.227418</td>\n",
       "      <td>0.925226</td>\n",
       "      <td>06:16</td>\n",
       "    </tr>\n",
       "    <tr>\n",
       "      <td>1</td>\n",
       "      <td>0.202388</td>\n",
       "      <td>0.149157</td>\n",
       "      <td>0.948394</td>\n",
       "      <td>06:16</td>\n",
       "    </tr>\n",
       "    <tr>\n",
       "      <td>2</td>\n",
       "      <td>0.116264</td>\n",
       "      <td>0.114659</td>\n",
       "      <td>0.962315</td>\n",
       "      <td>06:17</td>\n",
       "    </tr>\n",
       "    <tr>\n",
       "      <td>3</td>\n",
       "      <td>0.052834</td>\n",
       "      <td>0.110161</td>\n",
       "      <td>0.964303</td>\n",
       "      <td>06:16</td>\n",
       "    </tr>\n",
       "    <tr>\n",
       "      <td>4</td>\n",
       "      <td>0.035643</td>\n",
       "      <td>0.110585</td>\n",
       "      <td>0.964502</td>\n",
       "      <td>06:16</td>\n",
       "    </tr>\n",
       "  </tbody>\n",
       "</table>"
      ],
      "text/plain": [
       "<IPython.core.display.HTML object>"
      ]
     },
     "metadata": {},
     "output_type": "display_data"
    },
    {
     "data": {
      "text/html": [
       "\n",
       "<style>\n",
       "    /* Turns off some styling */\n",
       "    progress {\n",
       "        /* gets rid of default border in Firefox and Opera. */\n",
       "        border: none;\n",
       "        /* Needs to be in here for Safari polyfill so background images work as expected. */\n",
       "        background-size: auto;\n",
       "    }\n",
       "    progress:not([value]), progress:not([value])::-webkit-progress-bar {\n",
       "        background: repeating-linear-gradient(45deg, #7e7e7e, #7e7e7e 10px, #5c5c5c 10px, #5c5c5c 20px);\n",
       "    }\n",
       "    .progress-bar-interrupted, .progress-bar-interrupted::-webkit-progress-bar {\n",
       "        background: #F44336;\n",
       "    }\n",
       "</style>\n"
      ],
      "text/plain": [
       "<IPython.core.display.HTML object>"
      ]
     },
     "metadata": {},
     "output_type": "display_data"
    },
    {
     "data": {
      "text/html": [
       "<table border=\"1\" class=\"dataframe\">\n",
       "  <thead>\n",
       "    <tr style=\"text-align: left;\">\n",
       "      <th>epoch</th>\n",
       "      <th>train_loss</th>\n",
       "      <th>valid_loss</th>\n",
       "      <th>accuracy</th>\n",
       "      <th>time</th>\n",
       "    </tr>\n",
       "  </thead>\n",
       "  <tbody>\n",
       "    <tr>\n",
       "      <td>0</td>\n",
       "      <td>0.032952</td>\n",
       "      <td>0.108636</td>\n",
       "      <td>0.966392</td>\n",
       "      <td>08:19</td>\n",
       "    </tr>\n",
       "    <tr>\n",
       "      <td>1</td>\n",
       "      <td>0.034976</td>\n",
       "      <td>0.114047</td>\n",
       "      <td>0.964999</td>\n",
       "      <td>08:18</td>\n",
       "    </tr>\n",
       "    <tr>\n",
       "      <td>2</td>\n",
       "      <td>0.025091</td>\n",
       "      <td>0.125958</td>\n",
       "      <td>0.963011</td>\n",
       "      <td>08:18</td>\n",
       "    </tr>\n",
       "    <tr>\n",
       "      <td>3</td>\n",
       "      <td>0.018835</td>\n",
       "      <td>0.130009</td>\n",
       "      <td>0.964900</td>\n",
       "      <td>08:18</td>\n",
       "    </tr>\n",
       "    <tr>\n",
       "      <td>4</td>\n",
       "      <td>0.011125</td>\n",
       "      <td>0.121697</td>\n",
       "      <td>0.967784</td>\n",
       "      <td>08:18</td>\n",
       "    </tr>\n",
       "    <tr>\n",
       "      <td>5</td>\n",
       "      <td>0.007189</td>\n",
       "      <td>0.124357</td>\n",
       "      <td>0.966889</td>\n",
       "      <td>08:17</td>\n",
       "    </tr>\n",
       "    <tr>\n",
       "      <td>6</td>\n",
       "      <td>0.003976</td>\n",
       "      <td>0.124581</td>\n",
       "      <td>0.967485</td>\n",
       "      <td>08:18</td>\n",
       "    </tr>\n",
       "    <tr>\n",
       "      <td>7</td>\n",
       "      <td>0.002654</td>\n",
       "      <td>0.120475</td>\n",
       "      <td>0.968181</td>\n",
       "      <td>08:18</td>\n",
       "    </tr>\n",
       "    <tr>\n",
       "      <td>8</td>\n",
       "      <td>0.001707</td>\n",
       "      <td>0.120405</td>\n",
       "      <td>0.967982</td>\n",
       "      <td>08:18</td>\n",
       "    </tr>\n",
       "    <tr>\n",
       "      <td>9</td>\n",
       "      <td>0.001449</td>\n",
       "      <td>0.120594</td>\n",
       "      <td>0.968281</td>\n",
       "      <td>08:18</td>\n",
       "    </tr>\n",
       "  </tbody>\n",
       "</table>"
      ],
      "text/plain": [
       "<IPython.core.display.HTML object>"
      ]
     },
     "metadata": {},
     "output_type": "display_data"
    },
    {
     "data": {
      "text/html": [
       "\n",
       "<style>\n",
       "    /* Turns off some styling */\n",
       "    progress {\n",
       "        /* gets rid of default border in Firefox and Opera. */\n",
       "        border: none;\n",
       "        /* Needs to be in here for Safari polyfill so background images work as expected. */\n",
       "        background-size: auto;\n",
       "    }\n",
       "    progress:not([value]), progress:not([value])::-webkit-progress-bar {\n",
       "        background: repeating-linear-gradient(45deg, #7e7e7e, #7e7e7e 10px, #5c5c5c 10px, #5c5c5c 20px);\n",
       "    }\n",
       "    .progress-bar-interrupted, .progress-bar-interrupted::-webkit-progress-bar {\n",
       "        background: #F44336;\n",
       "    }\n",
       "</style>\n"
      ],
      "text/plain": [
       "<IPython.core.display.HTML object>"
      ]
     },
     "metadata": {},
     "output_type": "display_data"
    },
    {
     "data": {
      "text/html": [],
      "text/plain": [
       "<IPython.core.display.HTML object>"
      ]
     },
     "metadata": {},
     "output_type": "display_data"
    },
    {
     "data": {
      "text/html": [
       "\n",
       "<style>\n",
       "    /* Turns off some styling */\n",
       "    progress {\n",
       "        /* gets rid of default border in Firefox and Opera. */\n",
       "        border: none;\n",
       "        /* Needs to be in here for Safari polyfill so background images work as expected. */\n",
       "        background-size: auto;\n",
       "    }\n",
       "    progress:not([value]), progress:not([value])::-webkit-progress-bar {\n",
       "        background: repeating-linear-gradient(45deg, #7e7e7e, #7e7e7e 10px, #5c5c5c 10px, #5c5c5c 20px);\n",
       "    }\n",
       "    .progress-bar-interrupted, .progress-bar-interrupted::-webkit-progress-bar {\n",
       "        background: #F44336;\n",
       "    }\n",
       "</style>\n"
      ],
      "text/plain": [
       "<IPython.core.display.HTML object>"
      ]
     },
     "metadata": {},
     "output_type": "display_data"
    },
    {
     "data": {
      "text/html": [
       "<table border=\"1\" class=\"dataframe\">\n",
       "  <thead>\n",
       "    <tr style=\"text-align: left;\">\n",
       "      <th>epoch</th>\n",
       "      <th>train_loss</th>\n",
       "      <th>valid_loss</th>\n",
       "      <th>accuracy</th>\n",
       "      <th>time</th>\n",
       "    </tr>\n",
       "  </thead>\n",
       "  <tbody>\n",
       "    <tr>\n",
       "      <td>0</td>\n",
       "      <td>0.407376</td>\n",
       "      <td>0.233566</td>\n",
       "      <td>0.924729</td>\n",
       "      <td>05:44</td>\n",
       "    </tr>\n",
       "    <tr>\n",
       "      <td>1</td>\n",
       "      <td>0.214541</td>\n",
       "      <td>0.132890</td>\n",
       "      <td>0.954658</td>\n",
       "      <td>05:43</td>\n",
       "    </tr>\n",
       "    <tr>\n",
       "      <td>2</td>\n",
       "      <td>0.154327</td>\n",
       "      <td>0.099849</td>\n",
       "      <td>0.965894</td>\n",
       "      <td>05:42</td>\n",
       "    </tr>\n",
       "    <tr>\n",
       "      <td>3</td>\n",
       "      <td>0.112255</td>\n",
       "      <td>0.090617</td>\n",
       "      <td>0.969772</td>\n",
       "      <td>05:42</td>\n",
       "    </tr>\n",
       "    <tr>\n",
       "      <td>4</td>\n",
       "      <td>0.107027</td>\n",
       "      <td>0.088526</td>\n",
       "      <td>0.970667</td>\n",
       "      <td>05:42</td>\n",
       "    </tr>\n",
       "  </tbody>\n",
       "</table>"
      ],
      "text/plain": [
       "<IPython.core.display.HTML object>"
      ]
     },
     "metadata": {},
     "output_type": "display_data"
    },
    {
     "data": {
      "text/html": [
       "\n",
       "<style>\n",
       "    /* Turns off some styling */\n",
       "    progress {\n",
       "        /* gets rid of default border in Firefox and Opera. */\n",
       "        border: none;\n",
       "        /* Needs to be in here for Safari polyfill so background images work as expected. */\n",
       "        background-size: auto;\n",
       "    }\n",
       "    progress:not([value]), progress:not([value])::-webkit-progress-bar {\n",
       "        background: repeating-linear-gradient(45deg, #7e7e7e, #7e7e7e 10px, #5c5c5c 10px, #5c5c5c 20px);\n",
       "    }\n",
       "    .progress-bar-interrupted, .progress-bar-interrupted::-webkit-progress-bar {\n",
       "        background: #F44336;\n",
       "    }\n",
       "</style>\n"
      ],
      "text/plain": [
       "<IPython.core.display.HTML object>"
      ]
     },
     "metadata": {},
     "output_type": "display_data"
    },
    {
     "data": {
      "text/html": [
       "<table border=\"1\" class=\"dataframe\">\n",
       "  <thead>\n",
       "    <tr style=\"text-align: left;\">\n",
       "      <th>epoch</th>\n",
       "      <th>train_loss</th>\n",
       "      <th>valid_loss</th>\n",
       "      <th>accuracy</th>\n",
       "      <th>time</th>\n",
       "    </tr>\n",
       "  </thead>\n",
       "  <tbody>\n",
       "    <tr>\n",
       "      <td>0</td>\n",
       "      <td>0.090449</td>\n",
       "      <td>0.092496</td>\n",
       "      <td>0.968977</td>\n",
       "      <td>07:36</td>\n",
       "    </tr>\n",
       "    <tr>\n",
       "      <td>1</td>\n",
       "      <td>0.097584</td>\n",
       "      <td>0.085722</td>\n",
       "      <td>0.972159</td>\n",
       "      <td>07:37</td>\n",
       "    </tr>\n",
       "    <tr>\n",
       "      <td>2</td>\n",
       "      <td>0.075619</td>\n",
       "      <td>0.081032</td>\n",
       "      <td>0.973054</td>\n",
       "      <td>07:36</td>\n",
       "    </tr>\n",
       "    <tr>\n",
       "      <td>3</td>\n",
       "      <td>0.054397</td>\n",
       "      <td>0.080632</td>\n",
       "      <td>0.974645</td>\n",
       "      <td>07:36</td>\n",
       "    </tr>\n",
       "    <tr>\n",
       "      <td>4</td>\n",
       "      <td>0.045017</td>\n",
       "      <td>0.078212</td>\n",
       "      <td>0.974346</td>\n",
       "      <td>07:37</td>\n",
       "    </tr>\n",
       "    <tr>\n",
       "      <td>5</td>\n",
       "      <td>0.031973</td>\n",
       "      <td>0.077830</td>\n",
       "      <td>0.976136</td>\n",
       "      <td>07:37</td>\n",
       "    </tr>\n",
       "    <tr>\n",
       "      <td>6</td>\n",
       "      <td>0.024757</td>\n",
       "      <td>0.077871</td>\n",
       "      <td>0.975937</td>\n",
       "      <td>07:37</td>\n",
       "    </tr>\n",
       "    <tr>\n",
       "      <td>7</td>\n",
       "      <td>0.017926</td>\n",
       "      <td>0.073213</td>\n",
       "      <td>0.977926</td>\n",
       "      <td>07:37</td>\n",
       "    </tr>\n",
       "    <tr>\n",
       "      <td>8</td>\n",
       "      <td>0.019267</td>\n",
       "      <td>0.072807</td>\n",
       "      <td>0.978324</td>\n",
       "      <td>07:37</td>\n",
       "    </tr>\n",
       "    <tr>\n",
       "      <td>9</td>\n",
       "      <td>0.016416</td>\n",
       "      <td>0.072510</td>\n",
       "      <td>0.977528</td>\n",
       "      <td>07:37</td>\n",
       "    </tr>\n",
       "  </tbody>\n",
       "</table>"
      ],
      "text/plain": [
       "<IPython.core.display.HTML object>"
      ]
     },
     "metadata": {},
     "output_type": "display_data"
    },
    {
     "data": {
      "image/png": "[encoded data removed]",
      "text/plain": [
       "<Figure size 640x480 with 1 Axes>"
      ]
     },
     "metadata": {},
     "output_type": "display_data"
    },
    {
     "data": {
      "image/png": "[encoded data removed]",
      "text/plain": [
       "<Figure size 640x480 with 1 Axes>"
      ]
     },
     "metadata": {},
     "output_type": "display_data"
    }
   ],
   "source": [
    "learn = cnn_learner(dls, resnet152, metrics=accuracy)\n",
    "learn.lr_find()\n",
    "learn.fit_one_cycle(5, lr_max=slice(1e-4, 1e-3))\n",
    "\n",
    "learn.unfreeze()\n",
    "learn.fit_one_cycle(10, lr_max=slice(1e-6, 1e-4))\n",
    "\n",
    "dls = ImageDataLoaders.from_folder(path='/kaggle/temp',\n",
    "                                   train='train', valid='valid', item_tfms=Resize(224), bs=64,\n",
    "                                   batch_tfms=[*aug_transforms(), Normalize.from_stats(*imagenet_stats)])\n",
    "learn = cnn_learner(dls, resnet152, metrics=accuracy).to_fp16()\n",
    "\n",
    "learn.lr_find()\n",
    "learn.fit_one_cycle(5, lr_max=slice(1e-4, 1e-3))\n",
    "\n",
    "learn.unfreeze()\n",
    "learn.fit_one_cycle(10, lr_max=slice(1e-6, 1e-4))"
   ]
  },
  {
   "cell_type": "code",
   "execution_count": 9,
   "id": "68869a90",
   "metadata": {
    "execution": {
     "iopub.execute_input": "2023-10-06T13:47:37.763236Z",
     "iopub.status.busy": "2023-10-06T13:47:37.762528Z",
     "iopub.status.idle": "2023-10-06T14:00:51.202849Z",
     "shell.execute_reply": "2023-10-06T14:00:51.201843Z"
    },
    "papermill": {
     "duration": 793.449794,
     "end_time": "2023-10-06T14:00:51.205153",
     "exception": false,
     "start_time": "2023-10-06T13:47:37.755359",
     "status": "completed"
    },
    "tags": []
   },
   "outputs": [],
   "source": [
    "archive_path = '/kaggle/input/cifar-10/test.7z'\n",
    "extract_folder = '/kaggle/temp/test/'\n",
    "\n",
    "with py7zr.SevenZipFile(archive_path, mode='r') as archive:\n",
    "    archive.extractall(path=extract_folder)\n"
   ]
  },
  {
   "cell_type": "code",
   "execution_count": 10,
   "id": "ccc54156",
   "metadata": {
    "execution": {
     "iopub.execute_input": "2023-10-06T14:00:51.219746Z",
     "iopub.status.busy": "2023-10-06T14:00:51.219470Z",
     "iopub.status.idle": "2023-10-06T14:00:52.785881Z",
     "shell.execute_reply": "2023-10-06T14:00:52.784885Z"
    },
    "papermill": {
     "duration": 1.577132,
     "end_time": "2023-10-06T14:00:52.789096",
     "exception": false,
     "start_time": "2023-10-06T14:00:51.211964",
     "status": "completed"
    },
    "tags": []
   },
   "outputs": [
    {
     "data": {
      "text/plain": [
       "Path('/kaggle/working/vision.pth')"
      ]
     },
     "execution_count": 10,
     "metadata": {},
     "output_type": "execute_result"
    }
   ],
   "source": [
    "learn.save('/kaggle/working/vision')"
   ]
  },
  {
   "cell_type": "code",
   "execution_count": 11,
   "id": "c1f3ac22",
   "metadata": {
    "execution": {
     "iopub.execute_input": "2023-10-06T14:00:52.834999Z",
     "iopub.status.busy": "2023-10-06T14:00:52.833415Z",
     "iopub.status.idle": "2023-10-06T14:00:53.535810Z",
     "shell.execute_reply": "2023-10-06T14:00:53.534564Z"
    },
    "papermill": {
     "duration": 0.728164,
     "end_time": "2023-10-06T14:00:53.539452",
     "exception": false,
     "start_time": "2023-10-06T14:00:52.811288",
     "status": "completed"
    },
    "tags": []
   },
   "outputs": [],
   "source": [
    "len(os.listdir('/kaggle/temp/test/test'))\n",
    "path='/kaggle/temp/test/test'\n",
    "f=os.listdir(path)\n",
    "new=[str(path)+'/'+s for s in f]"
   ]
  },
  {
   "cell_type": "code",
   "execution_count": 12,
   "id": "0c88b847",
   "metadata": {
    "execution": {
     "iopub.execute_input": "2023-10-06T14:00:53.647106Z",
     "iopub.status.busy": "2023-10-06T14:00:53.646624Z",
     "iopub.status.idle": "2023-10-06T14:17:31.231680Z",
     "shell.execute_reply": "2023-10-06T14:17:31.230563Z"
    },
    "papermill": {
     "duration": 997.657749,
     "end_time": "2023-10-06T14:17:31.233918",
     "exception": false,
     "start_time": "2023-10-06T14:00:53.576169",
     "status": "completed"
    },
    "tags": []
   },
   "outputs": [
    {
     "data": {
      "text/html": [
       "\n",
       "<style>\n",
       "    /* Turns off some styling */\n",
       "    progress {\n",
       "        /* gets rid of default border in Firefox and Opera. */\n",
       "        border: none;\n",
       "        /* Needs to be in here for Safari polyfill so background images work as expected. */\n",
       "        background-size: auto;\n",
       "    }\n",
       "    progress:not([value]), progress:not([value])::-webkit-progress-bar {\n",
       "        background: repeating-linear-gradient(45deg, #7e7e7e, #7e7e7e 10px, #5c5c5c 10px, #5c5c5c 20px);\n",
       "    }\n",
       "    .progress-bar-interrupted, .progress-bar-interrupted::-webkit-progress-bar {\n",
       "        background: #F44336;\n",
       "    }\n",
       "</style>\n"
      ],
      "text/plain": [
       "<IPython.core.display.HTML object>"
      ]
     },
     "metadata": {},
     "output_type": "display_data"
    },
    {
     "data": {
      "text/html": [],
      "text/plain": [
       "<IPython.core.display.HTML object>"
      ]
     },
     "metadata": {},
     "output_type": "display_data"
    }
   ],
   "source": [
    "test_dl=learn.dls.test_dl(new)\n",
    "class_score,y=learn.get_preds(dl=test_dl)\n",
    "class_score = np.argmax(class_score, axis=1)\n",
    "\n",
    "class_score[1].item()\n",
    "classScore=class_score.tolist()\n",
    "learn.dls.vocab\n",
    "classes={0:'airplane',1:'automobile',2:'bird',3:'cat',4:'deer',5:'dog',6:'frog',7:'horse',8:'ship',9:'truck'}\n",
    "predicted_classes=np.empty(shape=300000,dtype=np.dtype('U20'))"
   ]
  },
  {
   "cell_type": "code",
   "execution_count": 13,
   "id": "50cae189",
   "metadata": {
    "execution": {
     "iopub.execute_input": "2023-10-06T14:17:31.259034Z",
     "iopub.status.busy": "2023-10-06T14:17:31.258646Z",
     "iopub.status.idle": "2023-10-06T14:17:31.373425Z",
     "shell.execute_reply": "2023-10-06T14:17:31.372422Z"
    },
    "papermill": {
     "duration": 0.126071,
     "end_time": "2023-10-06T14:17:31.375489",
     "exception": false,
     "start_time": "2023-10-06T14:17:31.249418",
     "status": "completed"
    },
    "tags": []
   },
   "outputs": [],
   "source": [
    "ind=0\n",
    "for i in (classScore):\n",
    "    predicted_classes[ind]=classes[i]\n",
    "    ind=ind+1"
   ]
  },
  {
   "cell_type": "code",
   "execution_count": 14,
   "id": "1f01c882",
   "metadata": {
    "execution": {
     "iopub.execute_input": "2023-10-06T14:17:31.393506Z",
     "iopub.status.busy": "2023-10-06T14:17:31.393208Z",
     "iopub.status.idle": "2023-10-06T14:17:31.795884Z",
     "shell.execute_reply": "2023-10-06T14:17:31.794960Z"
    },
    "papermill": {
     "duration": 0.414236,
     "end_time": "2023-10-06T14:17:31.798015",
     "exception": false,
     "start_time": "2023-10-06T14:17:31.383779",
     "status": "completed"
    },
    "tags": []
   },
   "outputs": [],
   "source": [
    "directory = '/kaggle/temp/test/test'\n",
    "ImageId = [ (''.join(filter(str.isdigit, name ))) for name in os.listdir(directory)]"
   ]
  },
  {
   "cell_type": "code",
   "execution_count": 15,
   "id": "1029a050",
   "metadata": {
    "execution": {
     "iopub.execute_input": "2023-10-06T14:17:31.812650Z",
     "iopub.status.busy": "2023-10-06T14:17:31.812371Z",
     "iopub.status.idle": "2023-10-06T14:17:32.556919Z",
     "shell.execute_reply": "2023-10-06T14:17:32.555640Z"
    },
    "papermill": {
     "duration": 0.754682,
     "end_time": "2023-10-06T14:17:32.559611",
     "exception": false,
     "start_time": "2023-10-06T14:17:31.804929",
     "status": "completed"
    },
    "tags": []
   },
   "outputs": [
    {
     "data": {
      "text/html": [
       "<div>\n",
       "<style scoped>\n",
       "    .dataframe tbody tr th:only-of-type {\n",
       "        vertical-align: middle;\n",
       "    }\n",
       "\n",
       "    .dataframe tbody tr th {\n",
       "        vertical-align: top;\n",
       "    }\n",
       "\n",
       "    .dataframe thead th {\n",
       "        text-align: right;\n",
       "    }\n",
       "</style>\n",
       "<table border=\"1\" class=\"dataframe\">\n",
       "  <thead>\n",
       "    <tr style=\"text-align: right;\">\n",
       "      <th></th>\n",
       "      <th>id</th>\n",
       "      <th>label</th>\n",
       "    </tr>\n",
       "  </thead>\n",
       "  <tbody>\n",
       "    <tr>\n",
       "      <th>0</th>\n",
       "      <td>287200</td>\n",
       "      <td>automobile</td>\n",
       "    </tr>\n",
       "    <tr>\n",
       "      <th>1</th>\n",
       "      <td>33557</td>\n",
       "      <td>cat</td>\n",
       "    </tr>\n",
       "    <tr>\n",
       "      <th>2</th>\n",
       "      <td>281872</td>\n",
       "      <td>deer</td>\n",
       "    </tr>\n",
       "  </tbody>\n",
       "</table>\n",
       "</div>"
      ],
      "text/plain": [
       "       id       label\n",
       "0  287200  automobile\n",
       "1   33557         cat\n",
       "2  281872        deer"
      ]
     },
     "metadata": {},
     "output_type": "display_data"
    },
    {
     "data": {
      "text/html": [
       "<div>\n",
       "<style scoped>\n",
       "    .dataframe tbody tr th:only-of-type {\n",
       "        vertical-align: middle;\n",
       "    }\n",
       "\n",
       "    .dataframe tbody tr th {\n",
       "        vertical-align: top;\n",
       "    }\n",
       "\n",
       "    .dataframe thead th {\n",
       "        text-align: right;\n",
       "    }\n",
       "</style>\n",
       "<table border=\"1\" class=\"dataframe\">\n",
       "  <thead>\n",
       "    <tr style=\"text-align: right;\">\n",
       "      <th></th>\n",
       "      <th>id</th>\n",
       "      <th>label</th>\n",
       "    </tr>\n",
       "  </thead>\n",
       "  <tbody>\n",
       "    <tr>\n",
       "      <th>299997</th>\n",
       "      <td>253814</td>\n",
       "      <td>truck</td>\n",
       "    </tr>\n",
       "    <tr>\n",
       "      <th>299998</th>\n",
       "      <td>17297</td>\n",
       "      <td>dog</td>\n",
       "    </tr>\n",
       "    <tr>\n",
       "      <th>299999</th>\n",
       "      <td>259315</td>\n",
       "      <td>deer</td>\n",
       "    </tr>\n",
       "  </tbody>\n",
       "</table>\n",
       "</div>"
      ],
      "text/plain": [
       "            id  label\n",
       "299997  253814  truck\n",
       "299998   17297    dog\n",
       "299999  259315   deer"
      ]
     },
     "metadata": {},
     "output_type": "display_data"
    }
   ],
   "source": [
    "submission  = pd.DataFrame({\n",
    "    \"id\": ImageId,\n",
    "    \"label\": predicted_classes\n",
    "})\n",
    "submission.to_csv(\"submission.csv\", index=False)\n",
    "display(submission.head(3))\n",
    "display(submission.tail(3))\n",
    "submission['id']=submission['id'].astype(int)\n",
    "submission.to_csv('submission.csv', index=False)"
   ]
  }
 ],
 "metadata": {
  "kernelspec": {
   "display_name": "Python 3",
   "language": "python",
   "name": "python3"
  },
  "language_info": {
   "codemirror_mode": {
    "name": "ipython",
    "version": 3
   },
   "file_extension": ".py",
   "mimetype": "text/x-python",
   "name": "python",
   "nbconvert_exporter": "python",
   "pygments_lexer": "ipython3",
   "version": "3.10.12"
  },
  "papermill": {
   "default_parameters": {},
   "duration": 15142.482632,
   "end_time": "2023-10-06T14:17:35.929700",
   "environment_variables": {},
   "exception": null,
   "input_path": "__notebook__.ipynb",
   "output_path": "__notebook__.ipynb",
   "parameters": {},
   "start_time": "2023-10-06T10:05:13.447068",
   "version": "2.4.0"
  }
 },
 "nbformat": 4,
 "nbformat_minor": 5
}
